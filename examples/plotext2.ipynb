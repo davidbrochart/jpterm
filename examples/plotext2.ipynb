{
  "cells": [
    {
      "outputs": [],
      "cell_type": "code",
      "execution_count": null,
      "metadata": {},
      "source": "from textual.app import App, ComposeResult\nfrom textual_plotext import PlotextPlot\nfrom ypywidgets_textual import Widget, Driver\n\nclass ScatterApp(App[None]):\n\n    def compose(self) -> ComposeResult:\n        yield PlotextPlot()\n\n    def on_mount(self) -> None:\n        plt = self.query_one(PlotextPlot).plt\n        y = plt.sin() # sinusoidal test signal\n        plt.scatter(y)\n        plt.title(\"Scatter Plot\") # to apply a title"
    },
    {
      "execution_count": null,
      "metadata": {},
      "cell_type": "code",
      "source": "w = Widget(ScatterApp)",
      "outputs": []
    },
    {
      "outputs": [],
      "metadata": {},
      "cell_type": "code",
      "execution_count": null,
      "source": "w"
    }
  ],
  "metadata": {
    "kernelspec": {
      "display_name": "Python 3 (ipykernel)",
      "name": "python3",
      "language": "python"
    },
    "language_info": {
      "mimetype": "text/x-python",
      "name": "python",
      "file_extension": ".py",
      "version": "3.12.2",
      "pygments_lexer": "ipython3",
      "codemirror_mode": {
        "name": "ipython",
        "version": 3
      },
      "nbconvert_exporter": "python"
    }
  },
  "nbformat": 4,
  "nbformat_minor": 4
}
