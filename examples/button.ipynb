{
  "cells": [
    {
      "execution_count": null,
      "outputs": [],
      "cell_type": "code",
      "source": "from ypywidgets_textual import Button\nbutton = Button()\nbutton",
      "metadata": {
        "trusted": false
      }
    },
    {
      "source": "button.label = \"Hello\"",
      "metadata": {
        "trusted": false
      },
      "cell_type": "code",
      "outputs": [],
      "execution_count": null
    },
    {
      "outputs": [],
      "source": "button.variant = \"error\"",
      "cell_type": "code",
      "execution_count": null,
      "metadata": {
        "trusted": false
      }
    },
    {
      "metadata": {
        "trusted": false
      },
      "outputs": [],
      "cell_type": "code",
      "execution_count": null,
      "source": "button.disabled = True"
    },
    {
      "metadata": {
        "trusted": false
      },
      "outputs": [],
      "execution_count": null,
      "cell_type": "code",
      "source": "button.disabled = False"
    },
    {
      "execution_count": null,
      "source": "button.action_press()",
      "cell_type": "code",
      "outputs": [],
      "metadata": {
        "trusted": false
      }
    },
    {
      "execution_count": null,
      "metadata": {
        "trusted": false
      },
      "source": "def on_button_pressed():\n    print(\"hey\")\nbutton.on_button_pressed = on_button_pressed",
      "cell_type": "code",
      "outputs": []
    }
  ],
  "metadata": {
    "language_info": {
      "name": "python",
      "file_extension": ".py",
      "nbconvert_exporter": "python",
      "version": "3.11.5",
      "mimetype": "text/x-python",
      "codemirror_mode": {
        "name": "ipython",
        "version": 3
      },
      "pygments_lexer": "ipython3"
    },
    "kernelspec": {
      "name": "python3",
      "language": "python",
      "display_name": "Python 3 (ipykernel)"
    }
  },
  "nbformat": 4,
  "nbformat_minor": 4
}
