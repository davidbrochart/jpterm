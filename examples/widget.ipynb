{
  "cells": [
    {
      "execution_count": 1,
      "metadata": {
        "trusted": false
      },
      "source": "from decimal import Decimal\n\nfrom textual import events, on\rfrom textual.app import App, ComposeResult\rfrom textual.containers import Container\rfrom textual.css.query import NoMatches\rfrom textual.reactive import var\rfrom textual.widgets import Button, Digits\rfrom ypywidgets_textual import Widget, Driver\r\rclass CalculatorApp(App):\r    \"\"\"A working 'desktop' calculator.\"\"\"\r\r    CSS = \"\"\"\r    Screen {\r        overflow: auto;\r    }\r    \r    #calculator {\r        layout: grid;\r        grid-size: 4;\r        grid-gutter: 1 2;\r        grid-columns: 1fr;\r        grid-rows: 2fr 1fr 1fr 1fr 1fr 1fr;\r        margin: 1 2;\r        min-height: 25;\r        min-width: 26;\r        height: 100%;\r    }\r    \r    Button {\r        width: 100%;\r        height: 100%;\r    }\r    \r    #numbers {\r        column-span: 4;\r        padding: 0 1;\r        height: 100%;\r        background: $primary-lighten-2;\r        color: $text;\r        content-align: center middle;\r        text-align: right;\r    }\r    \r    #number-0 {\r        column-span: 2;\r    }\r    \"\"\"\r\r    numbers = var(\"0\")\r    show_ac = var(True)\r    left = var(Decimal(\"0\"))\r    right = var(Decimal(\"0\"))\r    value = var(\"\")\r    operator = var(\"plus\")\r\r    NAME_MAP = {\r        \"asterisk\": \"multiply\",\r        \"slash\": \"divide\",\r        \"underscore\": \"plus-minus\",\r        \"full_stop\": \"point\",\r        \"plus_minus_sign\": \"plus-minus\",\r        \"percent_sign\": \"percent\",\r        \"equals_sign\": \"equals\",\r        \"minus\": \"minus\",\r        \"plus\": \"plus\",\r    }\r\r    def watch_numbers(self, value: str) -> None:\r        \"\"\"Called when numbers is updated.\"\"\"\r        self.query_one(\"#numbers\", Digits).update(value)\r\r    def compute_show_ac(self) -> bool:\r        \"\"\"Compute switch to show AC or C button\"\"\"\r        return self.value in (\"\", \"0\") and self.numbers == \"0\"\r\r    def watch_show_ac(self, show_ac: bool) -> None:\r        \"\"\"Called when show_ac changes.\"\"\"\r        self.query_one(\"#c\").display = not show_ac\r        self.query_one(\"#ac\").display = show_ac\r\r    def compose(self) -> ComposeResult:\r        \"\"\"Add our buttons.\"\"\"\r        with Container(id=\"calculator\"):\r            yield Digits(id=\"numbers\")\r            yield Button(\"AC\", id=\"ac\", variant=\"primary\")\r            yield Button(\"C\", id=\"c\", variant=\"primary\")\r            yield Button(\"+/-\", id=\"plus-minus\", variant=\"primary\")\r            yield Button(\"%\", id=\"percent\", variant=\"primary\")\r            yield Button(\"\u00f7\", id=\"divide\", variant=\"warning\")\r            yield Button(\"7\", id=\"number-7\", classes=\"number\")\r            yield Button(\"8\", id=\"number-8\", classes=\"number\")\r            yield Button(\"9\", id=\"number-9\", classes=\"number\")\r            yield Button(\"\u00d7\", id=\"multiply\", variant=\"warning\")\r            yield Button(\"4\", id=\"number-4\", classes=\"number\")\r            yield Button(\"5\", id=\"number-5\", classes=\"number\")\r            yield Button(\"6\", id=\"number-6\", classes=\"number\")\r            yield Button(\"-\", id=\"minus\", variant=\"warning\")\r            yield Button(\"1\", id=\"number-1\", classes=\"number\")\r            yield Button(\"2\", id=\"number-2\", classes=\"number\")\r            yield Button(\"3\", id=\"number-3\", classes=\"number\")\r            yield Button(\"+\", id=\"plus\", variant=\"warning\")\r            yield Button(\"0\", id=\"number-0\", classes=\"number\")\r            yield Button(\".\", id=\"point\")\r            yield Button(\"=\", id=\"equals\", variant=\"warning\")\r\r    def on_key(self, event: events.Key) -> None:\r        \"\"\"Called when the user presses a key.\"\"\"\r\r        def press(button_id: str) -> None:\r            \"\"\"Press a button, should it exist.\"\"\"\r            try:\r                self.query_one(f\"#{button_id}\", Button).press()\r            except NoMatches:\r                pass\r\r        key = event.key\r        if key.isdecimal():\r            press(f\"number-{key}\")\r        elif key == \"c\":\r            press(\"c\")\r            press(\"ac\")\r        else:\r            button_id = self.NAME_MAP.get(key)\r            if button_id is not None:\r                press(self.NAME_MAP.get(key, key))\r\r    @on(Button.Pressed, \".number\")\r    def number_pressed(self, event: Button.Pressed) -> None:\r        \"\"\"Pressed a number.\"\"\"\r        assert event.button.id is not None\r        number = event.button.id.partition(\"-\")[-1]\r        self.numbers = self.value = self.value.lstrip(\"0\") + number\r\r    @on(Button.Pressed, \"#plus-minus\")\r    def plus_minus_pressed(self) -> None:\r        \"\"\"Pressed + / -\"\"\"\r        self.numbers = self.value = str(Decimal(self.value or \"0\") * -1)\r\r    @on(Button.Pressed, \"#percent\")\r    def percent_pressed(self) -> None:\r        \"\"\"Pressed %\"\"\"\r        self.numbers = self.value = str(Decimal(self.value or \"0\") / Decimal(100))\r\r    @on(Button.Pressed, \"#point\")\r    def pressed_point(self) -> None:\r        \"\"\"Pressed .\"\"\"\r        if \".\" not in self.value:\r            self.numbers = self.value = (self.value or \"0\") + \".\"\r\r    @on(Button.Pressed, \"#ac\")\r    def pressed_ac(self) -> None:\r        \"\"\"Pressed AC\"\"\"\r        self.value = \"\"\r        self.left = self.right = Decimal(0)\r        self.operator = \"plus\"\r        self.numbers = \"0\"\r\r    @on(Button.Pressed, \"#c\")\r    def pressed_c(self) -> None:\r        \"\"\"Pressed C\"\"\"\r        self.value = \"\"\r        self.numbers = \"0\"\r\r    def _do_math(self) -> None:\r        \"\"\"Does the math: LEFT OPERATOR RIGHT\"\"\"\r        try:\r            if self.operator == \"plus\":\r                self.left += self.right\r            elif self.operator == \"minus\":\r                self.left -= self.right\r            elif self.operator == \"divide\":\r                self.left /= self.right\r            elif self.operator == \"multiply\":\r                self.left *= self.right\r            self.numbers = str(self.left)\r            self.value = \"\"\r        except Exception:\r            self.numbers = \"Error\"\r\r    @on(Button.Pressed, \"#plus,#minus,#divide,#multiply\")\r    def pressed_op(self, event: Button.Pressed) -> None:\r        \"\"\"Pressed one of the arithmetic operations.\"\"\"\r        self.right = Decimal(self.value or \"0\")\r        self._do_math()\r        assert event.button.id is not None\r        self.operator = event.button.id\r\r    @on(Button.Pressed, \"#equals\")\r    def pressed_equals(self) -> None:\r        \"\"\"Pressed =\"\"\"\r        if self.value:\r            self.right = Decimal(self.value)\r        self._do_math()\r\rapp = CalculatorApp(driver_class=Driver)",
      "execution_state": "idle",
      "cell_type": "code",
      "outputs": []
    },
    {
      "source": "w = Widget(app, cols=0, rows=0)",
      "metadata": {
        "trusted": false
      },
      "cell_type": "code",
      "execution_count": 2,
      "execution_state": "idle",
      "outputs": []
    },
    {
      "execution_state": "idle",
      "outputs": [
        {
          "guid": "ff6903b-1ade-40f9-922d-d414d02afa"
        }
      ],
      "source": "w",
      "metadata": {
        "trusted": false
      },
      "execution_count": 3,
      "cell_type": "code"
    }
  ],
  "metadata": {
    "language_info": {
      "file_extension": ".py",
      "version": "3.11.6",
      "name": "python",
      "mimetype": "text/x-python",
      "nbconvert_exporter": "python",
      "codemirror_mode": {
        "version": 3,
        "name": "ipython"
      },
      "pygments_lexer": "ipython3"
    },
    "kernelspec": {
      "name": "python3",
      "language": "python",
      "display_name": "Python 3 (ipykernel)"
    }
  },
  "nbformat": 4,
  "nbformat_minor": 4
}
